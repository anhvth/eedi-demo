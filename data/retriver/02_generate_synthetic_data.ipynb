{
 "cells": [
  {
   "cell_type": "code",
   "execution_count": 1,
   "id": "19d9e23e-edec-40db-a396-355ab0b85a3c",
   "metadata": {},
   "outputs": [],
   "source": [
    "%load_ext autoreload\n",
    "%autoreload 2"
   ]
  },
  {
   "cell_type": "code",
   "execution_count": 2,
   "id": "d55aca3a-e71c-462b-9531-ce6b8d9cf0ab",
   "metadata": {},
   "outputs": [
    {
     "name": "stdout",
     "output_type": "stream",
     "text": [
      "/mnt/data/anhvth5/projects/eedi\n"
     ]
    }
   ],
   "source": [
    "cd /mnt/data/anhvth5/projects/eedi"
   ]
  },
  {
   "cell_type": "code",
   "execution_count": 3,
   "id": "23665c0c",
   "metadata": {},
   "outputs": [],
   "source": [
    "import os\n",
    "import dspy"
   ]
  },
  {
   "cell_type": "code",
   "execution_count": 4,
   "id": "954cafb6-001a-444b-a17d-a64859fbbab5",
   "metadata": {},
   "outputs": [
    {
     "name": "stderr",
     "output_type": "stream",
     "text": [
      "\u001b[32m2024-12-04 14:33:58.181\u001b[0m | \u001b[1mINFO    \u001b[0m | \u001b[36meedi.common\u001b[0m:\u001b[36m<module>\u001b[0m:\u001b[36m429\u001b[0m - \u001b[1mcommon: ['VectorDBRetriever', 'prepare_db_train_val', 'preproc_df', 'get_df_parsed', 'format_df_generic', 'compute_metric', 'mine_hard_negatives', 'mine_hard_negatives', 'extract_tag', 'format_input_v2', 'format_input_v3', 'TEMPLATE_INPUT_V3', 'construct_base_prompt_v3', 'get_synthetic_df', 'format_docs', 'get_parsed_df_v3', 'df_mapping', 'get_parsed_df_v4', 'get_openai_misconception_db', 'update_train_df', 'load_latest_df', 'OpenAIModel', 'LocalLM']\u001b[0m\n"
     ]
    }
   ],
   "source": [
    "from speedy_utils.all import *\n",
    "import random\n",
    "from dotenv import load_dotenv\n",
    "import dspy\n",
    "from llm_utils import *\n",
    "from eedi import dspy as edspy\n",
    "from eedi.common import *\n",
    "from eedi.dspy.generate_train_data import SignatureProblemGenerator\n",
    "import argparse\n",
    "\n",
    "from eedi.models.openai_embed import get_miscon_db_openai\n",
    "\n",
    "load_dotenv()\n",
    "setup_logger(\"E\")\n"
   ]
  },
  {
   "cell_type": "code",
   "execution_count": 5,
   "id": "8f4ecd0a-fc8e-434a-9f9b-e33028c0b527",
   "metadata": {},
   "outputs": [
    {
     "data": {
      "text/plain": [
       "{'QW72B': [2802]}"
      ]
     },
     "execution_count": 5,
     "metadata": {},
     "output_type": "execute_result"
    }
   ],
   "source": [
    "edspy.LocalLM.scan_model_ports()"
   ]
  },
  {
   "cell_type": "code",
   "execution_count": 6,
   "id": "af985e0c-2c07-4979-8c08-649e72fad24c",
   "metadata": {},
   "outputs": [],
   "source": [
    "# lm_ds = dspy.LM(base_url=\"https://api.deepseek.com\", model=\"openai/deepseek-chat\", api_key='sk-0831d94757284b57bb7f31f9173b2a47')\n",
    "# lm_ds('who are you')"
   ]
  },
  {
   "cell_type": "code",
   "execution_count": 7,
   "id": "49a31043-5d2f-4cd5-aa57-d273e7dfb9f2",
   "metadata": {},
   "outputs": [],
   "source": [
    "lm = edspy.LocalLM(\"QW72B\")\n",
    "dspy.settings.configure(lm=lm)\n",
    "db = get_miscon_db_openai()\n"
   ]
  },
  {
   "cell_type": "code",
   "execution_count": 8,
   "id": "ccb56151-b3c3-4e79-9ae2-b11c7e454f13",
   "metadata": {},
   "outputs": [],
   "source": [
    "from dataclasses import dataclass, field\n",
    "import argparse\n",
    "\n",
    "@dataclass\n",
    "class Config:\n",
    "    seed: int = 42\n",
    "    topk: int = 30\n",
    "    max_examples: int = 5\n",
    "    skip_exact_match: bool = field(default=False)\n",
    "args = Config()"
   ]
  },
  {
   "cell_type": "code",
   "execution_count": 9,
   "id": "8dbf042f-ed06-4d4b-9abc-ee908787bd84",
   "metadata": {
    "scrolled": true
   },
   "outputs": [],
   "source": [
    "# edspy.LocalLM.scan_model_ports()"
   ]
  },
  {
   "cell_type": "code",
   "execution_count": 10,
   "id": "fc23060c-7df2-45ac-bed2-1bc4a61d0c0f",
   "metadata": {},
   "outputs": [
    {
     "data": {
      "text/html": [
       "<div>\n",
       "<style scoped>\n",
       "    .dataframe tbody tr th:only-of-type {\n",
       "        vertical-align: middle;\n",
       "    }\n",
       "\n",
       "    .dataframe tbody tr th {\n",
       "        vertical-align: top;\n",
       "    }\n",
       "\n",
       "    .dataframe thead th {\n",
       "        text-align: right;\n",
       "    }\n",
       "</style>\n",
       "<table border=\"1\" class=\"dataframe\">\n",
       "  <thead>\n",
       "    <tr style=\"text-align: right;\">\n",
       "      <th></th>\n",
       "      <th>Query</th>\n",
       "      <th>Prompt</th>\n",
       "      <th>MisconceptionId</th>\n",
       "      <th>Recall</th>\n",
       "      <th>MAP@25</th>\n",
       "      <th>RetrievedIDs</th>\n",
       "      <th>RetrievedScores</th>\n",
       "    </tr>\n",
       "    <tr>\n",
       "      <th>QuestionId_Answer</th>\n",
       "      <th></th>\n",
       "      <th></th>\n",
       "      <th></th>\n",
       "      <th></th>\n",
       "      <th></th>\n",
       "      <th></th>\n",
       "      <th></th>\n",
       "    </tr>\n",
       "  </thead>\n",
       "  <tbody>\n",
       "    <tr>\n",
       "      <th>0_B</th>\n",
       "      <td>&lt;instruct&gt;Given a math multiple-choice problem...</td>\n",
       "      <td>Question: \\[\\n3 \\times 2+4-5\\n\\]\\nWhere do the...</td>\n",
       "      <td>NaN</td>\n",
       "      <td>NaN</td>\n",
       "      <td>NaN</td>\n",
       "      <td>[1507, 1345, 2306, 1005, 2532, 315, 706, 1672,...</td>\n",
       "      <td>[0.39689746499061584, 0.3422924876213074, 0.29...</td>\n",
       "    </tr>\n",
       "    <tr>\n",
       "      <th>0_C</th>\n",
       "      <td>&lt;instruct&gt;Given a math multiple-choice problem...</td>\n",
       "      <td>Question: \\[\\n3 \\times 2+4-5\\n\\]\\nWhere do the...</td>\n",
       "      <td>NaN</td>\n",
       "      <td>NaN</td>\n",
       "      <td>NaN</td>\n",
       "      <td>[1999, 1345, 987, 1507, 2532, 1005, 2306, 2488...</td>\n",
       "      <td>[0.3276568651199341, 0.3195399045944214, 0.318...</td>\n",
       "    </tr>\n",
       "    <tr>\n",
       "      <th>0_D</th>\n",
       "      <td>&lt;instruct&gt;Given a math multiple-choice problem...</td>\n",
       "      <td>Question: \\[\\n3 \\times 2+4-5\\n\\]\\nWhere do the...</td>\n",
       "      <td>1672.0</td>\n",
       "      <td>1.0</td>\n",
       "      <td>0.5</td>\n",
       "      <td>[2532, 1672, 1005, 1345, 328, 1507, 987, 1516,...</td>\n",
       "      <td>[0.3396575450897217, 0.33421608805656433, 0.30...</td>\n",
       "    </tr>\n",
       "  </tbody>\n",
       "</table>\n",
       "</div>"
      ],
      "text/plain": [
       "                                                               Query  \\\n",
       "QuestionId_Answer                                                      \n",
       "0_B                <instruct>Given a math multiple-choice problem...   \n",
       "0_C                <instruct>Given a math multiple-choice problem...   \n",
       "0_D                <instruct>Given a math multiple-choice problem...   \n",
       "\n",
       "                                                              Prompt  \\\n",
       "QuestionId_Answer                                                      \n",
       "0_B                Question: \\[\\n3 \\times 2+4-5\\n\\]\\nWhere do the...   \n",
       "0_C                Question: \\[\\n3 \\times 2+4-5\\n\\]\\nWhere do the...   \n",
       "0_D                Question: \\[\\n3 \\times 2+4-5\\n\\]\\nWhere do the...   \n",
       "\n",
       "                   MisconceptionId  Recall  MAP@25  \\\n",
       "QuestionId_Answer                                    \n",
       "0_B                            NaN     NaN     NaN   \n",
       "0_C                            NaN     NaN     NaN   \n",
       "0_D                         1672.0     1.0     0.5   \n",
       "\n",
       "                                                        RetrievedIDs  \\\n",
       "QuestionId_Answer                                                      \n",
       "0_B                [1507, 1345, 2306, 1005, 2532, 315, 706, 1672,...   \n",
       "0_C                [1999, 1345, 987, 1507, 2532, 1005, 2306, 2488...   \n",
       "0_D                [2532, 1672, 1005, 1345, 328, 1507, 987, 1516,...   \n",
       "\n",
       "                                                     RetrievedScores  \n",
       "QuestionId_Answer                                                     \n",
       "0_B                [0.39689746499061584, 0.3422924876213074, 0.29...  \n",
       "0_C                [0.3276568651199341, 0.3195399045944214, 0.318...  \n",
       "0_D                [0.3396575450897217, 0.33421608805656433, 0.30...  "
      ]
     },
     "execution_count": 10,
     "metadata": {},
     "output_type": "execute_result"
    }
   ],
   "source": [
    "from eedi.common import df_mapping\n",
    "df_eval = pd.read_parquet('./outputs/llm_hn_qw7b/10_59_more_synthetic_fewshot/awq/eval_results_embed_train.parquet')\n",
    "df_eval.head(3)"
   ]
  },
  {
   "cell_type": "code",
   "execution_count": 11,
   "id": "a35989e3-d261-4a95-a19e-2e79e2df324b",
   "metadata": {},
   "outputs": [],
   "source": [
    "class SignatureProblemGenerator(dspy.Signature):\n",
    "    \"\"\"\n",
    "    Generate a plausible math problem based on a given misconception.\n",
    "    NOTE: Be *creative* when generate the questions. Just make sure it align with the *given misconception*.\n",
    "    Create 3 questions with different difficulty levels\n",
    "    \"\"\"\n",
    "\n",
    "    MISCONCEPTION_NAME = dspy.InputField(\n",
    "        desc=\"A specific misconception related to a mathematical concept\"\n",
    "    )\n",
    "    PLANING = dspy.OutputField(\n",
    "        desc=\"This is where you create a plan for generating question/correct/incorrect answer before actually generating it. Focus on the input field to generate a relevant plan, evaluate your plan and make changes all in here\"\n",
    "    )\n",
    "    QUESTION = dspy.OutputField(\n",
    "        desc=\"A generated math problem consist of Question, SubjectName, and ConstructName\"\n",
    "    )\n",
    "    CORRECT_ANSWER = dspy.OutputField(\n",
    "        desc=\"The correct answer to the generated math problem.\"\n",
    "    )\n",
    "    STUDENT_WRONG_ANSWER = dspy.OutputField(\n",
    "        desc=\"An incorrect answer that a student might give based on the misconception.\"\n",
    "    )\n"
   ]
  },
  {
   "cell_type": "code",
   "execution_count": 12,
   "id": "59559901-79b4-4180-ad96-f039044f84e1",
   "metadata": {},
   "outputs": [],
   "source": [
    "# plan_reason_df"
   ]
  },
  {
   "cell_type": "code",
   "execution_count": 13,
   "id": "4c38730d-07fd-411c-96cd-163713070bf7",
   "metadata": {
    "scrolled": true
   },
   "outputs": [],
   "source": [
    "def get_demos(miscon, args, plan_reason_df):\n",
    "    examples = []\n",
    "\n",
    "    for similar_misconception, score in db(miscon):\n",
    "        if args.skip_exact_match and similar_misconception == miscon:\n",
    "            continue\n",
    "        ids = plan_reason_df[\"MISCONCEPTION_NAME\"] == similar_misconception\n",
    "        if ids.sum() > 0:\n",
    "            examples.append(plan_reason_df[ids].sample(1, random_state=args.seed).iloc[0].to_dict())\n",
    "    return {\"miscon\": miscon, \"demos\": examples}\n",
    "\n",
    "\n",
    "def generate_problem(input):\n",
    "    try:\n",
    "        pred = prog(MISCONCEPTION_NAME=input[\"miscon\"], demos=input[\"demos\"])\n",
    "        pred = pred.toDict()\n",
    "        pred[\"MISCONCEPTION_NAME\"] = input[\"miscon\"]\n",
    "        return pred\n",
    "    except Exception as e:\n",
    "        return {\"e\": str(e)}\n",
    "\n",
    "\n",
    "os.makedirs(\"./data/synthetic/\", exist_ok=1)\n",
    "\n",
    "prog = dspy.Predict(SignatureProblemGenerator)\n",
    "\n",
    "args.seed = args.seed\n",
    "args.topk = args.topk\n",
    "out_path = f\"./data/synthetic/seed_{args.seed}.parquet\"\n",
    "\n",
    "df_2610 = pd.read_parquet(\"./data/train_1026.parquet\")\n",
    "df_mapping = pd.read_csv(\"./data/misconception_mapping.csv\")\n",
    "MISCONCEPTION_NAMES = df_mapping[\"MisconceptionName\"].tolist()\n",
    "df_parsed = pd.read_parquet(\"./data/df_parsed_1026_22h_with_rerank_result.parquet\")\n",
    "plan_reason_df = pd.read_parquet(\"./data/plan_reason_df.parquet\")\n",
    "\n",
    "\n",
    "def generate_problem(input):\n",
    "    pred = prog(MISCONCEPTION_NAME=input[\"miscon\"], demos=input[\"demos\"])\n",
    "    pred = pred.toDict()\n",
    "    pred[\"MISCONCEPTION_NAME\"] = input[\"miscon\"]\n",
    "    return pred\n",
    "\n",
    "\n",
    "\n",
    "response_with_demos = get_demos(db.texts[0], args, plan_reason_df)\n",
    "response1 = generate_problem(response_with_demos)"
   ]
  },
  {
   "cell_type": "code",
   "execution_count": 14,
   "id": "766bea07-5f18-4985-923f-981a0a5c8587",
   "metadata": {},
   "outputs": [],
   "source": [
    "# lm72.ih()"
   ]
  },
  {
   "cell_type": "code",
   "execution_count": 15,
   "id": "c8494464-9093-47ff-82cd-dfba0f7e67b0",
   "metadata": {},
   "outputs": [],
   "source": [
    "# df_eval"
   ]
  },
  {
   "cell_type": "code",
   "execution_count": 16,
   "id": "2ff5cf3d-6123-48d4-9c16-f25bade117d1",
   "metadata": {},
   "outputs": [],
   "source": [
    "miscon_id_with_label = df_eval['MisconceptionId'].dropna().apply(int).unique()\n",
    "misconceptions = df_mapping['MisconceptionName'].tolist()\n",
    "miscon_id_without_label = list(set(df_mapping['MisconceptionId'].apply(int).unique())- set(miscon_id_with_label))"
   ]
  },
  {
   "cell_type": "code",
   "execution_count": 17,
   "id": "121d739c-91be-47f2-8b8a-cceb82e73d14",
   "metadata": {},
   "outputs": [
    {
     "data": {
      "text/plain": [
       "983"
      ]
     },
     "execution_count": 17,
     "metadata": {},
     "output_type": "execute_result"
    }
   ],
   "source": [
    "len(miscon_id_without_label)"
   ]
  },
  {
   "cell_type": "markdown",
   "id": "10277e3e-3599-4b36-9de0-0e4b478eafbc",
   "metadata": {},
   "source": [
    "### BUILD LONG DEMOS "
   ]
  },
  {
   "cell_type": "code",
   "execution_count": 18,
   "id": "d27b7172-8b3f-4acd-96ac-5a7d47de2168",
   "metadata": {},
   "outputs": [
    {
     "data": {
      "text/html": [
       "<div>\n",
       "<style scoped>\n",
       "    .dataframe tbody tr th:only-of-type {\n",
       "        vertical-align: middle;\n",
       "    }\n",
       "\n",
       "    .dataframe tbody tr th {\n",
       "        vertical-align: top;\n",
       "    }\n",
       "\n",
       "    .dataframe thead th {\n",
       "        text-align: right;\n",
       "    }\n",
       "</style>\n",
       "<table border=\"1\" class=\"dataframe\">\n",
       "  <thead>\n",
       "    <tr style=\"text-align: right;\">\n",
       "      <th></th>\n",
       "      <th>Query</th>\n",
       "      <th>Prompt</th>\n",
       "      <th>MisconceptionId</th>\n",
       "      <th>Recall</th>\n",
       "      <th>MAP@25</th>\n",
       "      <th>RetrievedIDs</th>\n",
       "      <th>RetrievedScores</th>\n",
       "    </tr>\n",
       "    <tr>\n",
       "      <th>QuestionId_Answer</th>\n",
       "      <th></th>\n",
       "      <th></th>\n",
       "      <th></th>\n",
       "      <th></th>\n",
       "      <th></th>\n",
       "      <th></th>\n",
       "      <th></th>\n",
       "    </tr>\n",
       "  </thead>\n",
       "  <tbody>\n",
       "    <tr>\n",
       "      <th>0_B</th>\n",
       "      <td>&lt;instruct&gt;Given a math multiple-choice problem...</td>\n",
       "      <td>Question: \\[\\n3 \\times 2+4-5\\n\\]\\nWhere do the...</td>\n",
       "      <td>NaN</td>\n",
       "      <td>NaN</td>\n",
       "      <td>NaN</td>\n",
       "      <td>[1507, 1345, 2306, 1005, 2532, 315, 706, 1672,...</td>\n",
       "      <td>[0.39689746499061584, 0.3422924876213074, 0.29...</td>\n",
       "    </tr>\n",
       "    <tr>\n",
       "      <th>0_C</th>\n",
       "      <td>&lt;instruct&gt;Given a math multiple-choice problem...</td>\n",
       "      <td>Question: \\[\\n3 \\times 2+4-5\\n\\]\\nWhere do the...</td>\n",
       "      <td>NaN</td>\n",
       "      <td>NaN</td>\n",
       "      <td>NaN</td>\n",
       "      <td>[1999, 1345, 987, 1507, 2532, 1005, 2306, 2488...</td>\n",
       "      <td>[0.3276568651199341, 0.3195399045944214, 0.318...</td>\n",
       "    </tr>\n",
       "    <tr>\n",
       "      <th>0_D</th>\n",
       "      <td>&lt;instruct&gt;Given a math multiple-choice problem...</td>\n",
       "      <td>Question: \\[\\n3 \\times 2+4-5\\n\\]\\nWhere do the...</td>\n",
       "      <td>1672.0</td>\n",
       "      <td>1.0</td>\n",
       "      <td>0.5</td>\n",
       "      <td>[2532, 1672, 1005, 1345, 328, 1507, 987, 1516,...</td>\n",
       "      <td>[0.3396575450897217, 0.33421608805656433, 0.30...</td>\n",
       "    </tr>\n",
       "  </tbody>\n",
       "</table>\n",
       "</div>"
      ],
      "text/plain": [
       "                                                               Query  \\\n",
       "QuestionId_Answer                                                      \n",
       "0_B                <instruct>Given a math multiple-choice problem...   \n",
       "0_C                <instruct>Given a math multiple-choice problem...   \n",
       "0_D                <instruct>Given a math multiple-choice problem...   \n",
       "\n",
       "                                                              Prompt  \\\n",
       "QuestionId_Answer                                                      \n",
       "0_B                Question: \\[\\n3 \\times 2+4-5\\n\\]\\nWhere do the...   \n",
       "0_C                Question: \\[\\n3 \\times 2+4-5\\n\\]\\nWhere do the...   \n",
       "0_D                Question: \\[\\n3 \\times 2+4-5\\n\\]\\nWhere do the...   \n",
       "\n",
       "                   MisconceptionId  Recall  MAP@25  \\\n",
       "QuestionId_Answer                                    \n",
       "0_B                            NaN     NaN     NaN   \n",
       "0_C                            NaN     NaN     NaN   \n",
       "0_D                         1672.0     1.0     0.5   \n",
       "\n",
       "                                                        RetrievedIDs  \\\n",
       "QuestionId_Answer                                                      \n",
       "0_B                [1507, 1345, 2306, 1005, 2532, 315, 706, 1672,...   \n",
       "0_C                [1999, 1345, 987, 1507, 2532, 1005, 2306, 2488...   \n",
       "0_D                [2532, 1672, 1005, 1345, 328, 1507, 987, 1516,...   \n",
       "\n",
       "                                                     RetrievedScores  \n",
       "QuestionId_Answer                                                     \n",
       "0_B                [0.39689746499061584, 0.3422924876213074, 0.29...  \n",
       "0_C                [0.3276568651199341, 0.3195399045944214, 0.318...  \n",
       "0_D                [0.3396575450897217, 0.33421608805656433, 0.30...  "
      ]
     },
     "execution_count": 18,
     "metadata": {},
     "output_type": "execute_result"
    }
   ],
   "source": [
    "df_eval.head(3)"
   ]
  },
  {
   "cell_type": "code",
   "execution_count": 19,
   "id": "b1e072db-b668-4f04-b851-61308990b576",
   "metadata": {},
   "outputs": [],
   "source": [
    "import torch\n",
    "miscon_id_example_score = np.zeros([len(df_mapping), len(df_eval)])\n",
    "rets = np.array(df_eval['RetrievedIDs'].values.tolist())\n",
    "\n",
    "for example_id, misconception_ids in enumerate(rets):\n",
    "    for rank, miscon_id in enumerate(misconception_ids):\n",
    "        score = 3/(3+rank)\n",
    "        miscon_id_example_score[miscon_id, example_id] += score\n",
    "        \n",
    "miscon_id_example_score = torch.tensor(miscon_id_example_score)"
   ]
  },
  {
   "cell_type": "code",
   "execution_count": 20,
   "id": "fc878e44-9ad1-4d2a-a39f-14d87ad937dd",
   "metadata": {},
   "outputs": [
    {
     "data": {
      "text/html": [
       "<div>\n",
       "<style scoped>\n",
       "    .dataframe tbody tr th:only-of-type {\n",
       "        vertical-align: middle;\n",
       "    }\n",
       "\n",
       "    .dataframe tbody tr th {\n",
       "        vertical-align: top;\n",
       "    }\n",
       "\n",
       "    .dataframe thead th {\n",
       "        text-align: right;\n",
       "    }\n",
       "</style>\n",
       "<table border=\"1\" class=\"dataframe\">\n",
       "  <thead>\n",
       "    <tr style=\"text-align: right;\">\n",
       "      <th></th>\n",
       "      <th>QUESTION</th>\n",
       "      <th>CORRECT_ANSWER</th>\n",
       "      <th>STUDENT_WRONG_ANSWER</th>\n",
       "      <th>MISCONCEPTION_NAME</th>\n",
       "      <th>PROMPT</th>\n",
       "      <th>reasoning</th>\n",
       "      <th>PLANING</th>\n",
       "    </tr>\n",
       "    <tr>\n",
       "      <th>qid_choice</th>\n",
       "      <th></th>\n",
       "      <th></th>\n",
       "      <th></th>\n",
       "      <th></th>\n",
       "      <th></th>\n",
       "      <th></th>\n",
       "      <th></th>\n",
       "    </tr>\n",
       "  </thead>\n",
       "  <tbody>\n",
       "    <tr>\n",
       "      <th>0_D</th>\n",
       "      <td>Question: \\[\\n3 \\times 2+4-5\\n\\]\\nWhere do the...</td>\n",
       "      <td>\\( 3 \\times(2+4)-5 \\)</td>\n",
       "      <td>Does not need brackets</td>\n",
       "      <td>Confuses the order of operations, believes add...</td>\n",
       "      <td>Question: \\[\\n3 \\times 2+4-5\\n\\]\\nWhere do the...</td>\n",
       "      <td>Students with this misconception may incorrect...</td>\n",
       "      <td>1. Identify the misconception where students b...</td>\n",
       "    </tr>\n",
       "    <tr>\n",
       "      <th>1_A</th>\n",
       "      <td>Question: Simplify the following, if possible:...</td>\n",
       "      <td>Does not simplify</td>\n",
       "      <td>\\( m+1 \\)</td>\n",
       "      <td>Does not know that to factorise a quadratic ex...</td>\n",
       "      <td>Question: Simplify the following, if possible:...</td>\n",
       "      <td>Students with this misconception may not under...</td>\n",
       "      <td>1. Identify the misconception where students d...</td>\n",
       "    </tr>\n",
       "    <tr>\n",
       "      <th>1_B</th>\n",
       "      <td>Question: Simplify the following, if possible:...</td>\n",
       "      <td>Does not simplify</td>\n",
       "      <td>\\( m+2 \\)</td>\n",
       "      <td>Thinks that when you cancel identical terms fr...</td>\n",
       "      <td>Question: Simplify the following, if possible:...</td>\n",
       "      <td>Students with this misconception may incorrect...</td>\n",
       "      <td>1. Identify the misconception where students c...</td>\n",
       "    </tr>\n",
       "    <tr>\n",
       "      <th>1_C</th>\n",
       "      <td>Question: Simplify the following, if possible:...</td>\n",
       "      <td>Does not simplify</td>\n",
       "      <td>\\( m-1 \\)</td>\n",
       "      <td>Does not know that to factorise a quadratic ex...</td>\n",
       "      <td>Question: Simplify the following, if possible:...</td>\n",
       "      <td>Students with this misconception may not under...</td>\n",
       "      <td>1. Identify the misconception where students d...</td>\n",
       "    </tr>\n",
       "    <tr>\n",
       "      <th>2_A</th>\n",
       "      <td>Question: Tom and Katie are discussing the \\( ...</td>\n",
       "      <td>Only\\nKatie</td>\n",
       "      <td>Only\\nTom</td>\n",
       "      <td>Believes if you changed all values by the same...</td>\n",
       "      <td>Question: Tom and Katie are discussing the \\( ...</td>\n",
       "      <td>Students with this misconception may incorrect...</td>\n",
       "      <td>1. Identify the misconception where students t...</td>\n",
       "    </tr>\n",
       "    <tr>\n",
       "      <th>...</th>\n",
       "      <td>...</td>\n",
       "      <td>...</td>\n",
       "      <td>...</td>\n",
       "      <td>...</td>\n",
       "      <td>...</td>\n",
       "      <td>...</td>\n",
       "      <td>...</td>\n",
       "    </tr>\n",
       "    <tr>\n",
       "      <th>1867_C</th>\n",
       "      <td>Question: Tom and Katie are discussing congrue...</td>\n",
       "      <td>Only Katie</td>\n",
       "      <td>Both Tom and Katie</td>\n",
       "      <td>Thinks congruent shapes are the same shape but...</td>\n",
       "      <td>Question: Tom and Katie are discussing congrue...</td>\n",
       "      <td>Students with this misconception may incorrect...</td>\n",
       "      <td>1. Identify the misconception where students c...</td>\n",
       "    </tr>\n",
       "    <tr>\n",
       "      <th>1867_D</th>\n",
       "      <td>Question: Tom and Katie are discussing congrue...</td>\n",
       "      <td>Only Katie</td>\n",
       "      <td>Neither is correct</td>\n",
       "      <td>Thinks congruent shapes are the same shape but...</td>\n",
       "      <td>Question: Tom and Katie are discussing congrue...</td>\n",
       "      <td>Students with this misconception may incorrect...</td>\n",
       "      <td>1. Identify the misconception where students c...</td>\n",
       "    </tr>\n",
       "    <tr>\n",
       "      <th>1868_A</th>\n",
       "      <td>Question: Jo and Paul are arguing about how to...</td>\n",
       "      <td>Only Paul</td>\n",
       "      <td>Only\\nJo</td>\n",
       "      <td>Forgets to give the centre of rotation</td>\n",
       "      <td>Question: Jo and Paul are arguing about how to...</td>\n",
       "      <td>Students with this misconception may forget to...</td>\n",
       "      <td>1. Identify the misconception where students f...</td>\n",
       "    </tr>\n",
       "    <tr>\n",
       "      <th>1868_C</th>\n",
       "      <td>Question: Jo and Paul are arguing about how to...</td>\n",
       "      <td>Only Paul</td>\n",
       "      <td>Both Jo and Paul</td>\n",
       "      <td>Forgets to give the centre of rotation</td>\n",
       "      <td>Question: Jo and Paul are arguing about how to...</td>\n",
       "      <td>Students with this misconception may forget to...</td>\n",
       "      <td>1. Identify the misconception where students f...</td>\n",
       "    </tr>\n",
       "    <tr>\n",
       "      <th>1868_D</th>\n",
       "      <td>Question: Jo and Paul are arguing about how to...</td>\n",
       "      <td>Only Paul</td>\n",
       "      <td>Neither is correct</td>\n",
       "      <td>Does not know about the + notation for directi...</td>\n",
       "      <td>Question: Jo and Paul are arguing about how to...</td>\n",
       "      <td>Students with this misconception may not under...</td>\n",
       "      <td>1. Identify the misconception where students d...</td>\n",
       "    </tr>\n",
       "  </tbody>\n",
       "</table>\n",
       "<p>4338 rows × 7 columns</p>\n",
       "</div>"
      ],
      "text/plain": [
       "                                                     QUESTION  \\\n",
       "qid_choice                                                      \n",
       "0_D         Question: \\[\\n3 \\times 2+4-5\\n\\]\\nWhere do the...   \n",
       "1_A         Question: Simplify the following, if possible:...   \n",
       "1_B         Question: Simplify the following, if possible:...   \n",
       "1_C         Question: Simplify the following, if possible:...   \n",
       "2_A         Question: Tom and Katie are discussing the \\( ...   \n",
       "...                                                       ...   \n",
       "1867_C      Question: Tom and Katie are discussing congrue...   \n",
       "1867_D      Question: Tom and Katie are discussing congrue...   \n",
       "1868_A      Question: Jo and Paul are arguing about how to...   \n",
       "1868_C      Question: Jo and Paul are arguing about how to...   \n",
       "1868_D      Question: Jo and Paul are arguing about how to...   \n",
       "\n",
       "                   CORRECT_ANSWER    STUDENT_WRONG_ANSWER  \\\n",
       "qid_choice                                                  \n",
       "0_D         \\( 3 \\times(2+4)-5 \\)  Does not need brackets   \n",
       "1_A             Does not simplify               \\( m+1 \\)   \n",
       "1_B             Does not simplify               \\( m+2 \\)   \n",
       "1_C             Does not simplify               \\( m-1 \\)   \n",
       "2_A                   Only\\nKatie               Only\\nTom   \n",
       "...                           ...                     ...   \n",
       "1867_C                 Only Katie      Both Tom and Katie   \n",
       "1867_D                 Only Katie      Neither is correct   \n",
       "1868_A                  Only Paul                Only\\nJo   \n",
       "1868_C                  Only Paul        Both Jo and Paul   \n",
       "1868_D                  Only Paul      Neither is correct   \n",
       "\n",
       "                                           MISCONCEPTION_NAME  \\\n",
       "qid_choice                                                      \n",
       "0_D         Confuses the order of operations, believes add...   \n",
       "1_A         Does not know that to factorise a quadratic ex...   \n",
       "1_B         Thinks that when you cancel identical terms fr...   \n",
       "1_C         Does not know that to factorise a quadratic ex...   \n",
       "2_A         Believes if you changed all values by the same...   \n",
       "...                                                       ...   \n",
       "1867_C      Thinks congruent shapes are the same shape but...   \n",
       "1867_D      Thinks congruent shapes are the same shape but...   \n",
       "1868_A                 Forgets to give the centre of rotation   \n",
       "1868_C                 Forgets to give the centre of rotation   \n",
       "1868_D      Does not know about the + notation for directi...   \n",
       "\n",
       "                                                       PROMPT  \\\n",
       "qid_choice                                                      \n",
       "0_D         Question: \\[\\n3 \\times 2+4-5\\n\\]\\nWhere do the...   \n",
       "1_A         Question: Simplify the following, if possible:...   \n",
       "1_B         Question: Simplify the following, if possible:...   \n",
       "1_C         Question: Simplify the following, if possible:...   \n",
       "2_A         Question: Tom and Katie are discussing the \\( ...   \n",
       "...                                                       ...   \n",
       "1867_C      Question: Tom and Katie are discussing congrue...   \n",
       "1867_D      Question: Tom and Katie are discussing congrue...   \n",
       "1868_A      Question: Jo and Paul are arguing about how to...   \n",
       "1868_C      Question: Jo and Paul are arguing about how to...   \n",
       "1868_D      Question: Jo and Paul are arguing about how to...   \n",
       "\n",
       "                                                    reasoning  \\\n",
       "qid_choice                                                      \n",
       "0_D         Students with this misconception may incorrect...   \n",
       "1_A         Students with this misconception may not under...   \n",
       "1_B         Students with this misconception may incorrect...   \n",
       "1_C         Students with this misconception may not under...   \n",
       "2_A         Students with this misconception may incorrect...   \n",
       "...                                                       ...   \n",
       "1867_C      Students with this misconception may incorrect...   \n",
       "1867_D      Students with this misconception may incorrect...   \n",
       "1868_A      Students with this misconception may forget to...   \n",
       "1868_C      Students with this misconception may forget to...   \n",
       "1868_D      Students with this misconception may not under...   \n",
       "\n",
       "                                                      PLANING  \n",
       "qid_choice                                                     \n",
       "0_D         1. Identify the misconception where students b...  \n",
       "1_A         1. Identify the misconception where students d...  \n",
       "1_B         1. Identify the misconception where students c...  \n",
       "1_C         1. Identify the misconception where students d...  \n",
       "2_A         1. Identify the misconception where students t...  \n",
       "...                                                       ...  \n",
       "1867_C      1. Identify the misconception where students c...  \n",
       "1867_D      1. Identify the misconception where students c...  \n",
       "1868_A      1. Identify the misconception where students f...  \n",
       "1868_C      1. Identify the misconception where students f...  \n",
       "1868_D      1. Identify the misconception where students d...  \n",
       "\n",
       "[4338 rows x 7 columns]"
      ]
     },
     "execution_count": 20,
     "metadata": {},
     "output_type": "execute_result"
    }
   ],
   "source": [
    "plan_reason_df.dropna()"
   ]
  },
  {
   "cell_type": "code",
   "execution_count": 21,
   "id": "578a06ef",
   "metadata": {
    "scrolled": true
   },
   "outputs": [],
   "source": [
    "from collections import defaultdict\n",
    "import numpy as np\n",
    "import random\n",
    "\n",
    "def generate(i):\n",
    "    miscon_id, round_seed = i\n",
    "    # Ensure the miscon_id is a hashable type (convert to string if needed)\n",
    "    seed_value = str(miscon_id)+f'_{round_seed}'\n",
    "    \n",
    "    # Initialize a seeded random generator based on miscon_id\n",
    "    random_generator = random.Random(seed_value)\n",
    "    np_random_state = np.random.RandomState(random_generator.randint(0, 2**32 - 1))\n",
    "    \n",
    "    # Step 1: Sort scores and get top indices\n",
    "    scores, indices = miscon_id_example_score[miscon_id].sort(0, True)\n",
    "    top_indices = df_eval.iloc[indices[:100]].index.tolist()\n",
    "    \n",
    "    # Step 2: Filter indices to those present in plan_reason_df\n",
    "    valid_indices = [idx for idx in top_indices if idx in plan_reason_df.index]\n",
    "    \n",
    "    # Step 3: Group by question ID\n",
    "    qid_to_indices = defaultdict(list)\n",
    "    for index in valid_indices:\n",
    "        question_id, answer = index.split('_')\n",
    "        qid_to_indices[question_id].append(index)\n",
    "    \n",
    "    # Step 4: Select a single index per question ID\n",
    "    selected_indices = [random_generator.choice(indices) for indices in qid_to_indices.values()]\n",
    "    \n",
    "    # Step 5: Filter and prepare demonstration records\n",
    "    demos_df = plan_reason_df.loc[selected_indices].dropna(subset=['MISCONCEPTION_NAME'])\n",
    "    random_sample_ids = np_random_state.choice(len(demos_df), 5, replace=False)\n",
    "    demos = demos_df.iloc[random_sample_ids].to_dict('records')\n",
    "    \n",
    "    # Step 6: Generate input and problem\n",
    "    misconception = misconceptions[miscon_id]\n",
    "    input_data = {'miscon': misconception, 'demos': demos}\n",
    "    response = generate_problem(input_data)\n",
    "    response['MisconceptionId'] = miscon_id\n",
    "    response['round_seed'] = round_seed\n",
    "    \n",
    "    return response"
   ]
  },
  {
   "cell_type": "code",
   "execution_count": 22,
   "id": "3454d1ef-7c2d-4c36-9a6a-c4b393a49ec1",
   "metadata": {},
   "outputs": [],
   "source": [
    "import itertools\n",
    "inputs = []\n",
    "for r in range(50):\n",
    "    for i in df_mapping.MisconceptionId.tolist():\n",
    "        inputs.append([i, r])\n",
    "\n",
    "inputs = list(inputs)"
   ]
  },
  {
   "cell_type": "markdown",
   "id": "7a0f59e7-cf42-4984-8837-e195e04ee708",
   "metadata": {},
   "source": [
    "#### TEST GEN "
   ]
  },
  {
   "cell_type": "code",
   "execution_count": 23,
   "id": "a8e35c36-2616-4115-956a-b7313f7d0f6e",
   "metadata": {},
   "outputs": [
    {
     "data": {
      "text/html": [
       "<table><tr><td>PLANING</td><td>1. Identify the misconception where students confuse the plan view (top view) with the side view.\n",
       "2. Create problems involving 3D shapes and their different views.\n",
       "3. Formulate a problem where the correct solution involves identifying the top view of a 3D shape.\n",
       "4. Design incorrect options reflecting the mistake of identifying the side view as the top view.</td></tr><tr><td>QUESTION</td><td>Question: Which of the following is the plan view (top view) of the 3D shape shown below? ![A 3D shape composed of a rectangular prism with a smaller rectangular prism on top of it, aligned to one side. The dimensions are not labeled, but the shape is clearly visible.]()\n",
       "\n",
       "A. ![A side view of the 3D shape, showing the smaller rectangular prism on top of the larger one.]\n",
       "B. ![A top view of the 3D shape, showing the outline of the larger rectangular prism with the smaller one on top.]\n",
       "C. ![A front view of the 3D shape, showing the larger rectangular prism with the smaller one on top.]\n",
       "    \n",
       "SubjectName: 3D Names and Properties of Shapes\n",
       "ConstructName: Understand and draw the plan, front, and side views of 3D shapes</td></tr><tr><td>CORRECT_ANSWER</td><td>B. ![A top view of the 3D shape, showing the outline of the larger rectangular prism with the smaller one on top.]</td></tr><tr><td>STUDENT_WRONG_ANSWER</td><td>A. ![A side view of the 3D shape, showing the smaller rectangular prism on top of the larger one.]</td></tr><tr><td>MISCONCEPTION_NAME</td><td>Thinks the plan view is from the side of the shape</td></tr><tr><td>MisconceptionId</td><td>2478</td></tr><tr><td>round_seed</td><td>6</td></tr></table>"
      ],
      "text/plain": [
       "<IPython.core.display.HTML object>"
      ]
     },
     "metadata": {},
     "output_type": "display_data"
    }
   ],
   "source": [
    "output = generate(inputs[18000])\n",
    "fprint(output)"
   ]
  },
  {
   "cell_type": "code",
   "execution_count": 24,
   "id": "f6b1de13-4180-4c09-b033-7c4b4b88459c",
   "metadata": {
    "scrolled": true
   },
   "outputs": [],
   "source": [
    "# lm.ih()"
   ]
  },
  {
   "cell_type": "markdown",
   "id": "3f230b5c-c82b-4093-8c02-be8dcef4bf22",
   "metadata": {},
   "source": [
    "### RUN MULTI THREAD"
   ]
  },
  {
   "cell_type": "code",
   "execution_count": 25,
   "id": "39602446-71af-45dd-9d9b-0fda7262c9c7",
   "metadata": {},
   "outputs": [
    {
     "data": {
      "text/plain": [
       "129350"
      ]
     },
     "execution_count": 25,
     "metadata": {},
     "output_type": "execute_result"
    }
   ],
   "source": [
    "len(inputs)"
   ]
  },
  {
   "cell_type": "code",
   "execution_count": 27,
   "id": "955bb6f4-a1a4-4675-be83-cd1f27c8949c",
   "metadata": {
    "scrolled": true
   },
   "outputs": [
    {
     "name": "stderr",
     "output_type": "stream",
     "text": [
      "Multi-thread, Function: `gener..:   0%|                              | 387/129350 [00:01<10:57, 196.03it/s, SUCCESS=405]"
     ]
    },
    {
     "name": "stdout",
     "output_type": "stream",
     "text": [
      "\u001b[31m\u001b[1mERROR   \u001b[0m | \u001b[36mthread.py:72 (_handle_results)\u001b[0m - \u001b[31m\u001b[1mFirst error of type ValueError: Traceback (most recent call last):\n",
      "  File \"/home/ubuntu/.local/lib/python3.11/site-packages/speedy_utils/multi_worker/thread.py\", line 48, in _process_single_task\n",
      "    ret = func(inp) if not isinstance(inp, dict) else func(**inp)\n",
      "                                                      ^^^^^^^^^^^\n",
      "  File \"/tmp/ipykernel_38086/884461019.py\", line 38, in generate\n",
      "    response = generate_problem(input_data)\n",
      "               ^^^^^^^^^^^^^^^^^^^^^^^^^^^^\n",
      "  File \"/tmp/ipykernel_38086/1971947819.py\", line 39, in generate_problem\n",
      "    pred = prog(MISCONCEPTION_NAME=input[\"miscon\"], demos=input[\"demos\"])\n",
      "           ^^^^^^^^^^^^^^^^^^^^^^^^^^^^^^^^^^^^^^^^^^^^^^^^^^^^^^^^^^^^^^\n",
      "  File \"/home/ubuntu/.local/lib/python3.11/site-packages/dspy/utils/callback.py\", line 202, in wrapper\n",
      "    return fn(instance, *args, **kwargs)\n",
      "           ^^^^^^^^^^^^^^^^^^^^^^^^^^^^^\n",
      "  File \"/home/ubuntu/.local/lib/python3.11/site-packages/dspy/predict/predict.py\", line 154, in __call__\n",
      "    return self.forward(**kwargs)\n",
      "           ^^^^^^^^^^^^^^^^^^^^^^\n",
      "  File \"/home/ubuntu/.local/lib/python3.11/site-packages/dspy/predict/predict.py\", line 188, in forward\n",
      "    completions = v2_5_generate(lm, config, signature, demos, kwargs, _parse_values=self._parse_values)\n",
      "                  ^^^^^^^^^^^^^^^^^^^^^^^^^^^^^^^^^^^^^^^^^^^^^^^^^^^^^^^^^^^^^^^^^^^^^^^^^^^^^^^^^^^^^\n",
      "  File \"/home/ubuntu/.local/lib/python3.11/site-packages/dspy/predict/predict.py\", line 295, in v2_5_generate\n",
      "    return adapter(\n",
      "           ^^^^^^^^\n",
      "  File \"/home/ubuntu/.local/lib/python3.11/site-packages/dspy/adapters/base.py\", line 31, in __call__\n",
      "    raise e\n",
      "  File \"/home/ubuntu/.local/lib/python3.11/site-packages/dspy/adapters/base.py\", line 25, in __call__\n",
      "    value = self.parse(signature, output, _parse_values=_parse_values)\n",
      "            ^^^^^^^^^^^^^^^^^^^^^^^^^^^^^^^^^^^^^^^^^^^^^^^^^^^^^^^^^^\n",
      "  File \"/home/ubuntu/.local/lib/python3.11/site-packages/dspy/utils/callback.py\", line 202, in wrapper\n",
      "    return fn(instance, *args, **kwargs)\n",
      "           ^^^^^^^^^^^^^^^^^^^^^^^^^^^^^\n",
      "  File \"/home/ubuntu/.local/lib/python3.11/site-packages/dspy/adapters/chat_adapter.py\", line 85, in parse\n",
      "    raise ValueError(f\"Expected {signature.output_fields.keys()} but got {fields.keys()}\")\n",
      "ValueError: Expected dict_keys(['PLANING', 'QUESTION', 'CORRECT_ANSWER', 'STUDENT_WRONG_ANSWER']) but got dict_keys(['PLANING', 'QUESTION'])\n",
      "\u001b[0m\n"
     ]
    },
    {
     "name": "stderr",
     "output_type": "stream",
     "text": [
      "Multi-thread, Function: `gener..:  84%|██▌| 108421/129350 [36:12<06:59, 49.90it/s, SUCCESS=108309, Error_ValueError=112]\n"
     ]
    },
    {
     "name": "stdout",
     "output_type": "stream",
     "text": [
      "Multi thread results:\n",
      "+------------------+---------+\n",
      "| Key              |   Value |\n",
      "+==================+=========+\n",
      "| SUCCESS          |  108309 |\n",
      "+------------------+---------+\n",
      "| Error_ValueError |     112 |\n",
      "+------------------+---------+\n"
     ]
    }
   ],
   "source": [
    "generated_items = multi_thread(generate, inputs, 1)"
   ]
  },
  {
   "cell_type": "code",
   "execution_count": 28,
   "id": "04aea0a2-149d-4da3-9279-ffc45bc66aa5",
   "metadata": {},
   "outputs": [
    {
     "data": {
      "text/plain": [
       "108309"
      ]
     },
     "execution_count": 28,
     "metadata": {},
     "output_type": "execute_result"
    }
   ],
   "source": [
    "items = [i for i in generated_items if isinstance(i, dict)]\n",
    "len(items)"
   ]
  },
  {
   "cell_type": "code",
   "execution_count": 38,
   "id": "d044b33d-e0bc-48a7-8893-b5a9ebd9f5b7",
   "metadata": {},
   "outputs": [],
   "source": [
    "\n",
    "df = pd.DataFrame(items)"
   ]
  },
  {
   "cell_type": "code",
   "execution_count": 39,
   "id": "6f471954-c5d1-41ae-9a8e-b0636e57abb0",
   "metadata": {},
   "outputs": [],
   "source": [
    "# df = pd.read_parquet('./data/synthetic/df_generated_problems_72b_108k.parquet')"
   ]
  },
  {
   "cell_type": "code",
   "execution_count": 46,
   "id": "645a087b-fbb6-498d-affa-8d67f388b606",
   "metadata": {
    "scrolled": true
   },
   "outputs": [],
   "source": [
    "df['PROMPT'] = df.apply(lambda row:TEMPLATE_INPUT_V3.format(**row), 1)\n",
    "df.to_parquet('./data/synthetic/df_generated_problems_72b_108k.parquet')"
   ]
  },
  {
   "cell_type": "code",
   "execution_count": 47,
   "id": "9a98fddf-5dab-4981-83cd-087cbf554ec4",
   "metadata": {},
   "outputs": [],
   "source": [
    "# for q in df[df['MisconceptionId']==0]['QUESTION'].tolist():\n",
    "#     print(q)\n",
    "#     print('====')"
   ]
  },
  {
   "cell_type": "markdown",
   "id": "e9a75d61-f202-42aa-b876-c5d067095683",
   "metadata": {},
   "source": [
    "NOW RUN `python embed/synthetic_data_to_train_items.py`"
   ]
  },
  {
   "cell_type": "code",
   "execution_count": 49,
   "id": "3b467d4d-e98e-4c49-8e4e-0cde7f2b69e4",
   "metadata": {},
   "outputs": [],
   "source": [
    "!rm './data/embeddings/108k_synth_4k3_real.jsonl'"
   ]
  },
  {
   "cell_type": "code",
   "execution_count": 50,
   "id": "f435e396-d7bd-4fa3-8391-3a814a06b838",
   "metadata": {
    "scrolled": true
   },
   "outputs": [
    {
     "name": "stdout",
     "output_type": "stream",
     "text": [
      "\u001b[32m2024-12-04 15:26:26.855\u001b[0m | \u001b[1mINFO    \u001b[0m | \u001b[36meedi.common\u001b[0m:\u001b[36m<module>\u001b[0m:\u001b[36m429\u001b[0m - \u001b[1mcommon: ['VectorDBRetriever', 'prepare_db_train_val', 'preproc_df', 'get_df_parsed', 'format_df_generic', 'compute_metric', 'mine_hard_negatives', 'mine_hard_negatives', 'extract_tag', 'format_input_v2', 'format_input_v3', 'TEMPLATE_INPUT_V3', 'construct_base_prompt_v3', 'get_synthetic_df', 'format_docs', 'get_parsed_df_v3', 'df_mapping', 'get_parsed_df_v4', 'get_openai_misconception_db', 'update_train_df', 'load_latest_df', 'OpenAIModel', 'LocalLM']\u001b[0m\n",
      "Saved 108309 items to ./data/embeddings/raw_108k_synthetic_query_positive_raw.jsonl\n"
     ]
    }
   ],
   "source": [
    "!python embed/synthetic_data_to_train_items.py './data/synthetic/df_generated_problems_72b_108k.parquet' './data/embeddings/raw_108k_synthetic_query_positive_raw.jsonl'"
   ]
  },
  {
   "cell_type": "code",
   "execution_count": 53,
   "id": "ec18e42f-96e5-4f6d-a6e8-68780dcf9dcb",
   "metadata": {},
   "outputs": [],
   "source": [
    "# pd.read_csv('./data/train_4k3_with_subjectName.csv')"
   ]
  },
  {
   "cell_type": "code",
   "execution_count": 55,
   "id": "fadb80c7-0e4b-4029-8327-4416b4ca4f76",
   "metadata": {},
   "outputs": [
    {
     "name": "stdout",
     "output_type": "stream",
     "text": [
      "\u001b[32m2024-12-04 16:45:35.654\u001b[0m | \u001b[1mINFO    \u001b[0m | \u001b[36meedi.common\u001b[0m:\u001b[36m<module>\u001b[0m:\u001b[36m429\u001b[0m - \u001b[1mcommon: ['VectorDBRetriever', 'prepare_db_train_val', 'preproc_df', 'get_df_parsed', 'format_df_generic', 'compute_metric', 'mine_hard_negatives', 'mine_hard_negatives', 'extract_tag', 'format_input_v2', 'format_input_v3', 'TEMPLATE_INPUT_V3', 'construct_base_prompt_v3', 'get_synthetic_df', 'format_docs', 'get_parsed_df_v3', 'df_mapping', 'get_parsed_df_v4', 'get_openai_misconception_db', 'update_train_df', 'load_latest_df', 'OpenAIModel', 'LocalLM']\u001b[0m\n",
      "Saved 4370 items to ./data/embeddings/raw_4k3_real.jsonl\n"
     ]
    }
   ],
   "source": [
    "!python embed/import numpy as np\n",
    "from sklearn.tree import DecisionTreeClassifier\n",
    "from sklearn.metrics import accuracy_score\n",
    ".py './data/train_4k3_with_subjectName.csv' './data/embeddings/raw_4k3_real.jsonl'"
   ]
  },
  {
   "cell_type": "code",
   "execution_count": null,
   "id": "b770efdb-595a-446c-b00b-d8dd45bdccc2",
   "metadata": {},
   "outputs": [],
   "source": []
  }
 ],
 "metadata": {
  "kernelspec": {
   "display_name": "Python 3 (ipykernel)",
   "language": "python",
   "name": "python3"
  },
  "language_info": {
   "codemirror_mode": {
    "name": "ipython",
    "version": 3
   },
   "file_extension": ".py",
   "mimetype": "text/x-python",
   "name": "python",
   "nbconvert_exporter": "python",
   "pygments_lexer": "ipython3",
   "version": "3.11.9"
  }
 },
 "nbformat": 4,
 "nbformat_minor": 5
}
